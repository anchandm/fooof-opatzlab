{
 "cells": [
  {
   "cell_type": "markdown",
   "metadata": {},
   "source": [
    "# FOOOFGroup"
   ]
  },
  {
   "cell_type": "markdown",
   "metadata": {},
   "source": [
    "<div class=\"alert alert-success\">\n",
    "This tutorial covers running FOOOF across multiple power spectra, using FOOOFGroup, an object derived from the base FOOOF object.\n",
    "</div>\n",
    "\n",
    "<div class=\"alert alert-info\">\n",
    "For a more specific exploration of the base FOOOF object, and the underlying algorithm, go [here](02-FOOOF.ipynb).\n",
    "</div>"
   ]
  },
  {
   "cell_type": "code",
   "execution_count": 1,
   "metadata": {
    "collapsed": true
   },
   "outputs": [],
   "source": [
    "# Set matplotlib for plotting in the notebook\n",
    "%matplotlib inline\n",
    "\n",
    "# FOOOF imports: get FOOOF & FOOOFGroup objects\n",
    "from fooof import FOOOFGroup\n",
    "\n",
    "# Import some utilities for synthesizing some test data\n",
    "from fooof.synth import gen_group_power_spectra"
   ]
  },
  {
   "cell_type": "markdown",
   "metadata": {},
   "source": [
    "### Synthesizing Power Spectra\n",
    "\n",
    "FOOOF includes some basic support for creating synthetic power-spectra, that mimic real data. \n",
    "\n",
    "Here we will use that functionality to create a matrix of power spectra to test with. By default, the 'gen_group_power_spectra' takes lists of options for background and Gaussian peak parameters, and generates a specified number of power spectra, each one choosing a random combination of parameters.\n",
    "\n",
    "If you would like to generate single power spectra, you can use 'gen_power_spectrum', also in fooof.synth."
   ]
  },
  {
   "cell_type": "code",
   "execution_count": 2,
   "metadata": {
    "collapsed": true
   },
   "outputs": [],
   "source": [
    "# Set some options for background parameters\n",
    "#  Generated spectra will have an offset of either [20, 50, 35], and corresponding slope of [2., 2.5, 1.5]\n",
    "bgp_opts = [[20, 2], [50, 2.5], [35, 1.5]]\n",
    "\n",
    "# Set some options for peak parameters\n",
    "#  Generate power spectra will have either no peaks, a 10 Hz peak, or a 10 Hz & 20 Hz peak\n",
    "gauss_opts = [[], [10, 0.5, 2], [10, 0.5, 2, 20, 0.3, 4]]"
   ]
  },
  {
   "cell_type": "code",
   "execution_count": 3,
   "metadata": {
    "collapsed": true
   },
   "outputs": [],
   "source": [
    "# Generate the group of synthetic spectra\n",
    "freqs, spectra = gen_group_power_spectra(10, [3, 40], bgp_opts, gauss_opts)"
   ]
  },
  {
   "cell_type": "markdown",
   "metadata": {},
   "source": [
    "### FOOOFGroup\n",
    "\n",
    "The FOOOFGroup object is very similar to the FOOOF object (programmatically, it inherits from the FOOOF object), and can be used in the same way. The main difference is that instead of running across a single power spectrum, it operates across matrices of multiple power spectra. \n",
    "\n",
    "Note that by 'group' we mean merely to refer to a group of power-spectra, not necessarily to a group in terms of multiple subjects or similar. Most likely, a FOOOFGroup will be run across a collection of spectra from across channels, and/or across trials, within or across subjects. \n",
    "\n",
    "The main different with the FOOOFGroup object, is that it also contains a 'power_spectra' attribute, which stores the matrix of power-spectra to be fit, and collects fit results into a 'group_results' attribute. Otherwise, FOOOFGroup supports all the same functionality, accessed in the same way as the FOOOF object.\n",
    "\n",
    "Internally, it runs the exact same fitting procedure, per spectrum, as the FOOOF object."
   ]
  },
  {
   "cell_type": "code",
   "execution_count": 4,
   "metadata": {
    "collapsed": true
   },
   "outputs": [],
   "source": [
    "# Initialize a FOOOFGroup object. It accepts all the same settings as FOOOF()\n",
    "fg = FOOOFGroup(peak_width_limits=[1, 8], min_peak_amplitude=0.05, max_n_peaks=6)"
   ]
  },
  {
   "cell_type": "code",
   "execution_count": 5,
   "metadata": {
    "collapsed": true
   },
   "outputs": [],
   "source": [
    "# Fit a group of power spectra with the .fit() method\n",
    "#  The key difference (compared to FOOOF) is that it takes a 2D array of spectra\n",
    "#     This matrix should have the shape of [n_spectra, n_freqs]\n",
    "fg.fit(freqs, spectra)"
   ]
  },
  {
   "cell_type": "code",
   "execution_count": 6,
   "metadata": {},
   "outputs": [
    {
     "name": "stdout",
     "output_type": "stream",
     "text": [
      "==================================================================================================\n",
      "                                                                                                  \n",
      "                                       FOOOF - GROUP RESULTS                                      \n",
      "                                                                                                  \n",
      "                             Number of power spectra in the Group: 10                             \n",
      "                                                                                                  \n",
      "                        The model was run on the frequency range 3 - 40 Hz                        \n",
      "                                 Frequency Resolution is 0.50 Hz                                  \n",
      "                                                                                                  \n",
      "                              Power spectra were fit without a knee.                              \n",
      "                                                                                                  \n",
      "                                     Background Slope Values                                      \n",
      "                              Min: 1.5190, Max: 2.5332, Mean: 1.9228                              \n",
      "                                                                                                  \n",
      "                       In total [15 15] peaks were extracted from the group                       \n",
      "                                                                                                  \n",
      "                                     Goodness of fit metrics:                                     \n",
      "                            R2s -  Min: 0.9990, Max: 0.9999, Mean: 0.9995                         \n",
      "                         Errors -  Min: 0.0038, Max: 0.0155, Mean: 0.0104                         \n",
      "                                                                                                  \n",
      "==================================================================================================\n"
     ]
    }
   ],
   "source": [
    "# Print out results\n",
    "fg.print_results()"
   ]
  },
  {
   "cell_type": "code",
   "execution_count": 7,
   "metadata": {},
   "outputs": [
    {
     "data": {
      "image/png": "[encoded data removed]",
      "text/plain": [
       "<Figure size 1008x720 with 4 Axes>"
      ]
     },
     "metadata": {},
     "output_type": "display_data"
    }
   ],
   "source": [
    "# Plot a summary of the results across the group\n",
    "#  Note: given the simulations, we expect slopes at {1.5, 2.0. 2.5} and peaks around {10, 20}\n",
    "fg.plot()"
   ]
  },
  {
   "cell_type": "markdown",
   "metadata": {},
   "source": [
    "Just as with the FOOOF object, you can call the convenience method 'report' to run the fitting, and print results & plots, printing out the same as above. "
   ]
  },
  {
   "cell_type": "code",
   "execution_count": 8,
   "metadata": {
    "collapsed": true
   },
   "outputs": [],
   "source": [
    "# You can also save out PDFs reports for FOOOFGroup fits, same as with FOOOF\n",
    "fg.save_report()"
   ]
  },
  {
   "cell_type": "code",
   "execution_count": 9,
   "metadata": {},
   "outputs": [
    {
     "data": {
      "text/html": [
       "\n",
       "        <iframe\n",
       "            width=\"950\"\n",
       "            height=\"1200\"\n",
       "            src=\"FOOOFGroup_Report.pdf\"\n",
       "            frameborder=\"0\"\n",
       "            allowfullscreen\n",
       "        ></iframe>\n",
       "        "
      ],
      "text/plain": [
       "<IPython.lib.display.IFrame at 0x11c333128>"
      ]
     },
     "execution_count": 9,
     "metadata": {},
     "output_type": "execute_result"
    }
   ],
   "source": [
    "# Check what the generated report looks like\n",
    "from IPython.display import IFrame\n",
    "IFrame(\"FOOOFGroup_Report.pdf\", width=950, height=1200)"
   ]
  },
  {
   "cell_type": "markdown",
   "metadata": {},
   "source": [
    "### FOOOFGroup Data\n",
    "\n",
    "FOOOFGroup collects fits across power spectra into a list of FOOOFResults objects. "
   ]
  },
  {
   "cell_type": "code",
   "execution_count": 10,
   "metadata": {},
   "outputs": [
    {
     "data": {
      "text/plain": [
       "[FOOOFResult(background_params=array([35.0514395 ,  1.52370629]), peak_params=array([[10.11172074,  0.47813338,  3.7100865 ],\n",
       "       [19.97456174,  0.27338996,  7.32552172]]), r_squared=0.9989643825685415, error=0.01358563863129253, gaussian_params=array([[10.11172074,  0.4722837 ,  1.85504325],\n",
       "       [19.97456174,  0.27339623,  3.66276086]])),\n",
       " FOOOFResult(background_params=array([35.02894597,  1.51904671]), peak_params=array([[10.02571163,  0.4872782 ,  3.79705831]]), r_squared=0.9997577345713022, error=0.005814828132942485, gaussian_params=array([[10.02571163,  0.48732289,  1.89852916]]))]"
      ]
     },
     "execution_count": 10,
     "metadata": {},
     "output_type": "execute_result"
    }
   ],
   "source": [
    "# As it runs, FOOOFGroup collects each fit results in 'group_results'\n",
    "#  'group_results' is a list of FOOOFResult objects\n",
    "fg.group_results[0:2]"
   ]
  },
  {
   "cell_type": "markdown",
   "metadata": {},
   "source": [
    "#### get_all_data\n",
    "\n",
    "To collect data across all model fits, and to select specific data results from this data you can use the 'get_all_data' method. This method lets you extract specific results by specifying a field, as a string, and (optionally) a specific column of that data, also as a string (or, optionally, as an integer index). "
   ]
  },
  {
   "cell_type": "code",
   "execution_count": 11,
   "metadata": {
    "collapsed": true
   },
   "outputs": [],
   "source": [
    "# Extract aperiodic data\n",
    "bgps = fg.get_all_data('background_params')\n",
    "sls = fg.get_all_data('background_params', 'slope')\n",
    "\n",
    "# Extract peak data\n",
    "peaks = fg.get_all_data('peak_params')\n",
    "cfs = fg.get_all_data('peak_params', 'CF')\n",
    "\n",
    "# Extract metadata about the model fit\n",
    "errors = fg.get_all_data('error')\n",
    "r2s = fg.get_all_data('r_squared')"
   ]
  },
  {
   "cell_type": "code",
   "execution_count": 12,
   "metadata": {
    "collapsed": true
   },
   "outputs": [],
   "source": [
    "# The full list of data you can specify is available in the documentation of 'get_all_data'\n",
    "fg.get_all_data?"
   ]
  },
  {
   "cell_type": "code",
   "execution_count": 13,
   "metadata": {},
   "outputs": [
    {
     "name": "stdout",
     "output_type": "stream",
     "text": [
      "The resulting parameters and associated data of a FOOOF model fit.\n",
      "\n",
      "Attributes\n",
      "----------\n",
      "background_params : 1d array, len 2 or 3\n",
      "    Parameters that define the background fit. As [Intercept, (Knee), Slope].\n",
      "        The knee parameter is only included if background fit with knee. Otherwise, length is 2.\n",
      "peak_params : 2d array, shape=[n_peaks, 3]\n",
      "    Fitted parameter values for the peaks. Each row is a peak, as [CF, Amp, BW].\n",
      "r_squared : float\n",
      "    R-squared of the fit between the input power spectrum and the full model fit.\n",
      "error : float\n",
      "    Root mean squared error of the full model fit.\n",
      "gaussian_params : 2d array, shape=[n_peaks, 3]\n",
      "    Parameters that define the gaussian fit(s). Each row is a gaussian, as [mean, amp, std].\n",
      "\n"
     ]
    }
   ],
   "source": [
    "# More information about the data you can extract is also documented in the FOOOFResults object\n",
    "\n",
    "# Grab a particular FOOOFResults item\n",
    "#  Note that as a shortcut, you can index the FOOOFGroup object directly to access 'group_results'\n",
    "f_res = fg[0]\n",
    "\n",
    "# Check the documentation for the FOOOFResults - with full descriptions of the resulting data.\n",
    "print(f_res.__doc__)"
   ]
  },
  {
   "cell_type": "code",
   "execution_count": 14,
   "metadata": {},
   "outputs": [
    {
     "name": "stdout",
     "output_type": "stream",
     "text": [
      "[1.52370629 1.51904671 2.52758639 2.03259308 2.02341914 1.51967643\n",
      " 2.00134093 1.5290203  2.01791966 2.53322329]\n"
     ]
    }
   ],
   "source": [
    "# Check out the extracted slope values\n",
    "#  Note that this extraction will return an array of length equal to the number of model fits\n",
    "#    The model fit from which each data element originated is the index of this vector\n",
    "print(sls)"
   ]
  },
  {
   "cell_type": "code",
   "execution_count": 15,
   "metadata": {},
   "outputs": [
    {
     "name": "stdout",
     "output_type": "stream",
     "text": [
      "[[10.11172074  0.        ]\n",
      " [19.97456174  0.        ]\n",
      " [10.02571163  1.        ]\n",
      " [10.09745985  2.        ]\n",
      " [20.02220545  2.        ]\n",
      " [10.10307174  3.        ]\n",
      " [19.99867967  3.        ]\n",
      " [10.10697957  4.        ]\n",
      " [20.01296691  4.        ]\n",
      " [10.01734141  5.        ]\n",
      " [10.09615195  7.        ]\n",
      " [20.00172124  7.        ]\n",
      " [10.04578021  8.        ]\n",
      " [10.09598139  9.        ]\n",
      " [19.94589533  9.        ]]\n"
     ]
    }
   ],
   "source": [
    "# Check the fit center-frequencies and slope values\n",
    "#  Note that when you extract peak data, an additional column is appended, specifying which model fit it came from\n",
    "print(cfs)"
   ]
  },
  {
   "cell_type": "markdown",
   "metadata": {},
   "source": [
    "### Saving & Loading with FOOOFGroup\n",
    "\n",
    "FOOOFGroup also support saving and loading, with same options as saving from FOOOF. \n",
    "\n",
    "The only difference in saving FOOOFGroup, is that it saves out a 'jsonlines' file, in which each line is a JSON object, saving the specified data and results for a single power spectrum.\n",
    "\n",
    "Note that saving settings together with results will save out duplicated settings to each line in the output file, corresponding to each individual spectrum in the group, and so is somewhat inefficient. It is more parsimonious to save out a single settings file, and a separate file that includes the results."
   ]
  },
  {
   "cell_type": "code",
   "execution_count": 16,
   "metadata": {
    "collapsed": true
   },
   "outputs": [],
   "source": [
    "# Save out FOOOFGroup settings & results (separately)\n",
    "fg.save('FG_settings', save_settings=True)\n",
    "fg.save('FG_results', save_results=True)"
   ]
  },
  {
   "cell_type": "code",
   "execution_count": 17,
   "metadata": {
    "collapsed": true
   },
   "outputs": [],
   "source": [
    "# You can then reload this group data\n",
    "nfg = FOOOFGroup()\n",
    "nfg.load('FG_results')"
   ]
  },
  {
   "cell_type": "code",
   "execution_count": 18,
   "metadata": {},
   "outputs": [
    {
     "name": "stdout",
     "output_type": "stream",
     "text": [
      "==================================================================================================\n",
      "                                                                                                  \n",
      "                                       FOOOF - GROUP RESULTS                                      \n",
      "                                                                                                  \n",
      "                             Number of power spectra in the Group: 10                             \n",
      "                                                                                                  \n",
      "                        The model was run on the frequency range 3 - 40 Hz                        \n",
      "                                 Frequency Resolution is 0.50 Hz                                  \n",
      "                                                                                                  \n",
      "                              Power spectra were fit without a knee.                              \n",
      "                                                                                                  \n",
      "                                     Background Slope Values                                      \n",
      "                              Min: 1.5190, Max: 2.5332, Mean: 1.9228                              \n",
      "                                                                                                  \n",
      "                       In total [15 15] peaks were extracted from the group                       \n",
      "                                                                                                  \n",
      "                                     Goodness of fit metrics:                                     \n",
      "                            R2s -  Min: 0.9990, Max: 0.9999, Mean: 0.9995                         \n",
      "                         Errors -  Min: 0.0038, Max: 0.0155, Mean: 0.0104                         \n",
      "                                                                                                  \n",
      "==================================================================================================\n"
     ]
    }
   ],
   "source": [
    "# Print results to check that the loaded group \n",
    "nfg.print_results()"
   ]
  },
  {
   "cell_type": "markdown",
   "metadata": {},
   "source": [
    "### Parallel Support\n",
    "\n",
    "FOOOFGroup also has support for running in parallel.\n",
    "\n",
    "The fit method includes an optional parameter 'n_jobs', which if set at 1, will run FOOOF linearly, but otherwise will launch n_jobs number of jobs, in parallel. Setting n_jobs to -1 will launch in parallel across all available cores. \n",
    "\n",
    "Note, however, that running FOOOF in parallel does not gaurantee a quicker runtime overall. The computation time per FOOOF-fit scales with the frequency range fit over, and the 'complexity' of the power spectra, in terms of number of peaks. For relatively small numbers of power spectra (less than ~100), across relatively small frequency ranges (say ~3-40Hz), running in parallel may offer no appreciable speed up. "
   ]
  },
  {
   "cell_type": "code",
   "execution_count": 19,
   "metadata": {
    "collapsed": true
   },
   "outputs": [],
   "source": [
    "# Run FOOOF fit across a group of power spectra in parallel, using all cores\n",
    "fg.fit(freqs, spectra, n_jobs=-1)"
   ]
  },
  {
   "cell_type": "markdown",
   "metadata": {},
   "source": [
    "### Plotting Individual Fits\n",
    "\n",
    "When running FOOOF across a group of power spectra, results are stored as the FOOOFResults, which store (only) the results of the model fit, not the full model fits themselves. To examine individual model fits, FOOOFGroup can regenerate FOOOF objects for individual power spectra, with the full model available for visualization."
   ]
  },
  {
   "cell_type": "code",
   "execution_count": 20,
   "metadata": {
    "collapsed": true
   },
   "outputs": [],
   "source": [
    "# Extract a particular spectrum, specified by index to a FOOOF object\n",
    "#  Here we also specify to regenerate the the full model fit, from the results\n",
    "fm = fg.get_fooof(ind=2, regenerate=True)"
   ]
  },
  {
   "cell_type": "code",
   "execution_count": 21,
   "metadata": {},
   "outputs": [
    {
     "name": "stdout",
     "output_type": "stream",
     "text": [
      "==================================================================================================\n",
      "                                                                                                  \n",
      "                                   FOOOF - POWER SPECTRUM MODEL                                   \n",
      "                                                                                                  \n",
      "                        The model was run on the frequency range 3 - 40 Hz                        \n",
      "                                 Frequency Resolution is 0.50 Hz                                  \n",
      "                                                                                                  \n",
      "                             Background Parameters (offset, slope):                               \n",
      "                                         50.0561, 2.5276                                          \n",
      "                                                                                                  \n",
      "                                       2 peaks were found:                                        \n",
      "                                CF:  10.10, Amp:  0.477, BW:  3.67                                \n",
      "                                CF:  20.02, Amp:  0.271, BW:  7.34                                \n",
      "                                                                                                  \n",
      "                                     Goodness of fit metrics:                                     \n",
      "                                    R^2 of model fit is 0.9996                                    \n",
      "                                Root mean squared error is 0.0137                                 \n",
      "                                                                                                  \n",
      "==================================================================================================\n"
     ]
    },
    {
     "data": {
      "image/png": "[encoded data removed]",
      "text/plain": [
       "<Figure size 864x720 with 1 Axes>"
      ]
     },
     "metadata": {},
     "output_type": "display_data"
    }
   ],
   "source": [
    "# Print results and plot extracted FOOOF model fit\n",
    "fm.print_results()\n",
    "fm.plot()"
   ]
  },
  {
   "cell_type": "markdown",
   "metadata": {},
   "source": [
    "<hr>\n",
    "<div class=\"alert alert-info\">\n",
    "To continue with the tutorial, with more examples of setting parameters, getting good fits, and troubleshooting issues, go [here](05-Tuning&Troubleshooting.ipynb).\n",
    "</div>"
   ]
  }
 ],
 "metadata": {
  "kernelspec": {
   "display_name": "Python 3",
   "language": "python",
   "name": "python3"
  },
  "language_info": {
   "codemirror_mode": {
    "name": "ipython",
    "version": 3
   },
   "file_extension": ".py",
   "mimetype": "text/x-python",
   "name": "python",
   "nbconvert_exporter": "python",
   "pygments_lexer": "ipython3",
   "version": "3.5.3"
  }
 },
 "nbformat": 4,
 "nbformat_minor": 2
}
