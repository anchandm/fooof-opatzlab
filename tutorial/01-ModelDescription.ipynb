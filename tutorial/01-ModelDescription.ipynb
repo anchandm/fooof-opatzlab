{
 "cells": [
  {
   "cell_type": "markdown",
   "metadata": {},
   "source": [
    "# FOOOF - Model Description"
   ]
  },
  {
   "cell_type": "markdown",
   "metadata": {},
   "source": [
    "<div class=\"alert alert-success\">\n",
    "This notebook provides a more theoretical / mathematical description of the FOOOF model and parameters.\n",
    "</div>\n",
    "\n",
    "### Introduction\n",
    "\n",
    "A neural power spectrum is fit as a combination of the aperiodic (1/f) signal and periodic oscillations. Putative oscillations (hereafter referred to as 'peaks'), are frequency regions in which there are 'bumps' of power over and above the aperiodic signal.\n",
    "\n",
    "This formulation roughly translates to fitting the power spectrum as:\n",
    "\n",
    "$$P = L + \\sum_{n=0}^{N} G_n$$\n",
    "\n",
    "Where $P$ is the power, $L$ is the aperiodic signal, and each $G_n$ is a Gaussian fit to a peak, for $N$ total peaks extracted from the power spectrum.\n",
    "\n",
    "#### Aperiodic fit\n",
    "\n",
    "The aperiodic fit uses an exponential function, fit on the semilog power spectrum (linear frequencies and $log10$ power values). \n",
    "\n",
    "The exponential is of the form:\n",
    "\n",
    "$$L = 10^b * \\frac{1}{(k + F^\\chi)}$$\n",
    "\n",
    "Or, equivalently:\n",
    "\n",
    "$$L = b - \\log(k + F^\\chi)$$\n",
    "\n",
    "In this formulation, the 3 parameters $b$, $k$, and $\\chi$ define the aperiodic signal, as:\n",
    "- $b$ is the broadband 'offset'\n",
    "- $k$ relates to the 'knee'\n",
    "- $\\chi$ is the 'slope'\n",
    "- $F$ is the vector of input frequencies\n",
    "\n",
    "Note that fitting the knee parameter is optional. By default the aperiodic signal is fit with the 'knee' parameter set to zero. \n",
    "\n",
    "This fits the aperiodic signal equivalently to fitting a linear fit in log-log space. \n",
    "\n",
    "#### Peaks\n",
    "\n",
    "Regions of power over above this aperiodic signal, as defined above, are considered to be putative oscillations and are fit in the model by a Gaussian.\n",
    "\n",
    "For each Gaussian, $G_n$, with the form:\n",
    "\n",
    "$$G_n = a * exp (\\frac{- (F - c)^2}{2 * w^2})$$\n",
    "\n",
    "The peak is defined in terms of the $amp$, $ctr$ and $wdt$, where:\n",
    "- $a$ is the amplitude of the peak, over and above the aperiodic signal\n",
    "- $c$ is the center frequency of the peak\n",
    "- $w$ is the width of the peak\n",
    "- $F$ is the vector of input frequencies\n",
    "\n",
    "The full power spectrum fit is therefore the combination of the aperiodic fit, defined by the exponential fit, and $N$ peaks, where each $G_n$ is formalized as a Gaussian process.\n",
    "\n",
    "Full method details are available in the paper: https://www.biorxiv.org/content/early/2018/04/11/299859"
   ]
  },
  {
   "cell_type": "markdown",
   "metadata": {},
   "source": [
    "## Algorithmic Description\n",
    "\n",
    "Briefly, the algorithm proceeds as such:\n",
    "- An initial fit of the aperiodic signal is taken across the power spectrum\n",
    "- This aperiodic fit is subtracted from the power spectrum, creating a flattened spectrum\n",
    "- Peaks are iteratively found in this flattened spectrum\n",
    "- A full peak fit is created of all peak candidates found\n",
    "- The peak fit is subtracted from the original power spectrum, creating a peak-removed power spectrum\n",
    "- A final background fit is taken of the peak-removed power spectrum"
   ]
  },
  {
   "cell_type": "markdown",
   "metadata": {},
   "source": [
    "This procedure is able to create a model of the neural power spectrum, that is fully described mathematical by the mathematical model from above:\n",
    "\n",
    "![\"fooof_model_picture\"](img/FOOOF_model_pic.png)"
   ]
  },
  {
   "cell_type": "markdown",
   "metadata": {},
   "source": [
    "<div class=\"alert alert-info\">\n",
    "To step through the algorithm in more detail, with visualizations that step through the code, go [here](03-FOOOFAlgorithm.ipynb).\n",
    "</div>"
   ]
  },
  {
   "cell_type": "markdown",
   "metadata": {},
   "source": [
    "## FOOOF Parameters\n",
    "\n",
    "There are a number of parameters that control the FOOOF fitting algorithm. Parameters that are exposed to be set by the user are explained in detail below. \n",
    "\n",
    "\n",
    "### Controlling peak fits\n",
    "\n",
    "#### peak_width_limits (Hz)\n",
    "\n",
    "Enforced limits on the minimum and maximum widths of extracted peaks, given as a list of [minimum bandwidth, maximum bandwidth]. We recommend bandwidths at last twice the frequency resolution of the power spectrum.\n",
    "\n",
    "Default: [0.5, 12]\n",
    "\n",
    "### Peak search stopping criteria\n",
    "\n",
    "An iterative procedures searches for candidate peaks in the flattened spectrum. Candidate peaks are extracted in order of decreasing amplitude, until some stopping criterion is met. \n",
    "\n",
    "#### max_n_peaks (int)\n",
    "\n",
    "The maximum number of peaks that can be extracted from a given power spectrum. FOOOF will halt searching for new peaks when this number is reached. Note that FOOOF extracts peaks iteratively by amplitude (over and above the aperiodic signal), and so this approach will extract (up to) the _n_ largest peaks. \n",
    "\n",
    "Default: infinite\n",
    "\n",
    "#### peak_threshold (in units of standard deviation)\n",
    "\n",
    "The threshold, in terms of standard deviation of the aperiodic signal-removed power spectrum, above which a data point must pass to be considered a candidate peak. Once a candidate peak drops below this threshold, the peak search is halted (without including the most recent candidate). \n",
    "\n",
    "Default: 2.0\n",
    "\n",
    "#### min_peak_amplitude (units of power - same as the input spectrum)\n",
    "\n",
    "The minimum amplitude, above the aperiodic fit, that a peak must have to be extracted in the initial fit stage. Once a candidate peak drops below this threshold, the peak search is halted (without including the most recent candidate). Note that because this constraint is enforced during peak search, and prior to final peak fit, returned peaks are not guaranteed to surpass this value in amplitude.\n",
    "\n",
    "Default: 0\n",
    "\n",
    "Note: there are two different amplitude-related halting conditions for the peak searching. By default, the relative (standard-deviation based) threshold is defined, whereas the absolute threshold is set to zero (this is largely because there is no general way to set this value without knowing the scale of the data). If both are defined, both are used and the peak search will halt when a candidate peak fails to pass either the absolute, or relative threshold. \n",
    "\n",
    "### Aperiodic signal fitting approach\n",
    "\n",
    "#### background_mode (string)\n",
    "\n",
    "The fitting approach to use for the aperiodic signal. Options:\n",
    "    - 'fixed' : fits without a knee parameter (with the knee parameter 'fixed' at 0)\n",
    "    - 'knee' : fits the full exponential equation, including the knee parameter. (experimental)\n",
    "\n",
    "Default: 'fixed'"
   ]
  },
  {
   "cell_type": "markdown",
   "metadata": {},
   "source": [
    "<hr>\n",
    "<div class=\"alert alert-info\">\n",
    "To continue with the tutorial, to a hands-on introduction to the codebase, go [here](02-FOOOF.ipynb).\n",
    "</div>"
   ]
  }
 ],
 "metadata": {
  "kernelspec": {
   "display_name": "Python 3",
   "language": "python",
   "name": "python3"
  },
  "language_info": {
   "codemirror_mode": {
    "name": "ipython",
    "version": 3
   },
   "file_extension": ".py",
   "mimetype": "text/x-python",
   "name": "python",
   "nbconvert_exporter": "python",
   "pygments_lexer": "ipython3",
   "version": "3.5.3"
  }
 },
 "nbformat": 4,
 "nbformat_minor": 2
}
